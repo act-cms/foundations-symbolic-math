{
 "cells": [
  {
   "cell_type": "markdown",
   "id": "ca21e932-3359-480b-9737-fababccedb33",
   "metadata": {},
   "source": [
    "Introduction to Symbolic Algebra in Python\n",
    "===\n",
    "\n",
    "The purpose of this lesson is to help students develop foundational skills for performing symbolic algebra in Python using the `algebra_with_sympy` library, with some brief applications to problem solving at the general chemistry (first-year) level.\n",
    "\n",
    "## Lesson Learning Outcomes\n",
    "At the end of this lesson, students will be able to...\n",
    "1. Define mathematical variables and expressions using the `algebra_with_sympy` library\n",
    "2. Manipulate algebraic expressions to solve for a single variable\n",
    "3. Substitute numerical values and units into algebraic expressions\n",
    "4. Apply symbolic algebra techniques in Python to solve general chemistry problems\n",
    "\n",
    "## Cyberinfrastructure Prerequisites\n",
    "Students are expected to have basic skills in Python programming and syntax (variable assignment, logic, & control statements), equivalent to the learning outcomes of the [Introduction to Programming for Molecular Scientists](https://act-cms.molssi.org/portal/lessons/foundational-intro-python/) lesson.\n",
    "\n",
    "## Content Prerequisites\n",
    "Students are expected to have a basic familiarity with the following general chemistry concepts:\n",
    "- Gas Laws\n",
    "- Thermochemistry\n",
    "- Chemical Kinetics\n",
    "- Chemical Equilibrium\n",
    "\n",
    "## Resources\n",
    "- [MolSSI Workshop: Python Scripting for Computational Molecular Sciences](https://education.molssi.org/python_scripting_cms/)\n",
    "- [MolSSI CMS Python Workshop: Introduction](https://education.molssi.org/python_scripting_cms/01-introduction/index.html)\n",
    "- [Algebra with SymPy Documentation](https://gutow.github.io/Algebra_with_Sympy/algebra_with_sympy.html)\n",
    "- [Demonstrations of `algebra_with_sympy` functionality with the `Equation` class](https://gutow.github.io/Algebra_with_Sympy/Demonstration%20of%20equation%20class.html)\n",
    "\n",
    "## References\n",
    "Portions of this lesson were adapted from: \n",
    "1. [Algebra with SymPy Documentation](https://gutow.github.io/Algebra_with_Sympy/algebra_with_sympy.html)"
   ]
  },
  {
   "cell_type": "markdown",
   "id": "a54c5a25-8853-46aa-af3d-5a7ceab4a4a7",
   "metadata": {},
   "source": [
    "## Student Instructions\n",
    "\n",
    "The first line of each Code cell below is commented with directions for the cell. Some examples include\n",
    "- `# EXECUTE: Explanatory text...`: Execute the cell by selecting it and typing the Shift and Enter keys.\n",
    "- `# YOUR TURN: Directions...`: Fill in the missing code in the cell according to the `Directions...` text.\n",
    "\n",
    "Perform the indicated actions on each cell to learn how to use `algebra_with_sympy`!\n",
    "\n",
    "### Package Imports\n",
    "\n",
    "***BEFORE STARTING THE LESSON***, execute the cell below to ensure all necessary Python libraries are loaded."
   ]
  },
  {
   "cell_type": "code",
   "execution_count": null,
   "id": "4f86406a",
   "metadata": {},
   "outputs": [],
   "source": [
    "# EXECUTE: Import some packages that we will use later\n",
    "from algebra_with_sympy import * # Automatically imports sympy\n",
    "algwsym_config.output.solve_to_list = True # Makes automatic solution outputs a list for usability\n",
    "from math import log10\n",
    "#from sympy.codegen.cfunctions import log10 # Makes common logarithm available as log10()\n",
    "print(\"This notebook is running Algebra_with_Sympy version \" + str(algwsym_version)+\".\")"
   ]
  },
  {
   "cell_type": "markdown",
   "id": "8b0ca2f8-e3e3-4788-b4c2-ef33bcd0205b",
   "metadata": {},
   "source": [
    "## Defining Mathematical Variables & Equations\n",
    "\n"
   ]
  },
  {
   "cell_type": "code",
   "execution_count": null,
   "id": "98a46b22-840e-47a8-9a31-a16dcd6d8856",
   "metadata": {},
   "outputs": [],
   "source": []
  },
  {
   "cell_type": "markdown",
   "id": "ef2e3844-ee30-4c60-a5b1-7121be53b9ee",
   "metadata": {},
   "source": [
    "## \"Manually\" Rearranging Equations to Solve for a Variable\n",
    "\n"
   ]
  },
  {
   "cell_type": "code",
   "execution_count": null,
   "id": "d0dce4cb-1993-49b7-a7ef-1cf4edf2a82e",
   "metadata": {},
   "outputs": [],
   "source": []
  },
  {
   "cell_type": "markdown",
   "id": "ff1a8995-7a6a-4b54-b378-a932ecc36f6b",
   "metadata": {},
   "source": [
    "## Evaluating an `Equation` using the `.subs()` Method\n",
    "\n"
   ]
  },
  {
   "cell_type": "code",
   "execution_count": null,
   "id": "dd4dac46-4821-4b8b-9d58-92a6191374c2",
   "metadata": {},
   "outputs": [],
   "source": []
  },
  {
   "cell_type": "markdown",
   "id": "8a6a4ab8-cee9-42c2-80e8-04a86ec966a9",
   "metadata": {},
   "source": [
    "### Student Exercise\n",
    "\n",
    "In the cell below, determine the molar volume of an ideal gas at STP, i.e., the volume occupied by exactly 1 mol an ideal gas at 273.15 K and 1 bar of pressure.\n",
    ">**Hint**: Units declared with the `units()` function do not come with conversion factors! You will need to use the fact that 1 bar = 100 kPa and that 1 atm = 101.325 kPa."
   ]
  },
  {
   "cell_type": "code",
   "execution_count": null,
   "id": "45b44801-a35e-473e-a270-c7831c7d2aca",
   "metadata": {},
   "outputs": [],
   "source": []
  },
  {
   "cell_type": "markdown",
   "id": "c9d66184",
   "metadata": {},
   "source": [
    "## Automatically Solving Equations with the `.solve()` Method\n",
    "\n"
   ]
  },
  {
   "cell_type": "code",
   "execution_count": null,
   "id": "6f142a29-c5cc-4941-9b08-334cdd164ab7",
   "metadata": {},
   "outputs": [],
   "source": []
  },
  {
   "cell_type": "markdown",
   "id": "8f6aa906-b899-41ec-b801-5c64a80399cc",
   "metadata": {},
   "source": [
    "## Extracting a Numerical Value from an `Equation` Object\n"
   ]
  },
  {
   "cell_type": "code",
   "execution_count": null,
   "id": "4a97d606-de6a-4f7d-87b7-94c21350b7b2",
   "metadata": {},
   "outputs": [],
   "source": []
  },
  {
   "cell_type": "markdown",
   "id": "74f0b295-b3ff-4fbb-92e7-290c94caa77b",
   "metadata": {},
   "source": [
    "To solve for the pH of an acid at equilibrium, we would need to perform the mathematical operation\n",
    "$${\\rm pH} = -\\log_{10}{x}$$\n",
    "where $x$ is the hydronium concentration at equilibrium and I have specified the common logarithm (i.e., base 10) as $\\log_{10}$ rather than the natural logarithm (base $e$). Unlike in a normal mathematical context, where \"$\\log$\" is understood to represent the common logarithm and \"$\\ln$\" is understood to mean the natural logarithm, Python and many other programming languages actually use `log` to mean the natural logarithm and `log10` to mean the common logarithm. \n",
    "| Logarithm Name    | Base | Typical Mathematical Notation | Python Function |\n",
    "|-------------------|------|-------------------------------|-----------------|\n",
    "| Common Logarithm  | 10   | $\\log{x}$                     | `log10(x)`      |\n",
    "| Natural Logarithm | $e$  | $\\ln{x}$                      | `log(x)`        |"
   ]
  },
  {
   "cell_type": "markdown",
   "id": "72dc407c-4860-411a-8ece-c493cc2c2da9",
   "metadata": {},
   "source": [
    "## Student Exercises\n",
    "Now that we have explored the basics of using Python and the `algebra_with_sympy` library to solve chemical problems, please apply these new skills to solve the problems below. (Taken from [OpenStax Chemistry 2e](https://openstax.org/details/books/chemistry-2e))"
   ]
  },
  {
   "cell_type": "markdown",
   "id": "bb4c3595-7697-411f-b136-622184965044",
   "metadata": {},
   "source": [
    "### SE1: Heat Transfer & Calorimetry ([2e Example 5.3](https://openstax.org/books/chemistry-2e/pages/5-2-calorimetry))\n",
    "\n",
    "A 360.0-g piece of rebar (a steel rod used for reinforcing concrete) is dropped into 425 mL of water (density 1.00 g/mL) at 24.0°C. The final temperature of the water was measured as 42.7°C. Calculate the initial temperature of the piece of rebar. Assume the specific heat of steel is approximately the same as that for iron (Table 5.1), and that all heat transfer occurs between the rebar and the water (there is no heat exchange with the surroundings)."
   ]
  },
  {
   "cell_type": "code",
   "execution_count": null,
   "id": "267672d3-5be2-40ef-996d-4d9d46638056",
   "metadata": {},
   "outputs": [],
   "source": []
  },
  {
   "cell_type": "markdown",
   "id": "949318c0-c628-445b-907c-874f11e622ac",
   "metadata": {},
   "source": [
    "### SE2: Energy & Wavelengths of Bohr-Orbit Transitions ([2e Example 6.5](https://openstax.org/books/chemistry-2e/pages/6-2-the-bohr-model))\n",
    "\n",
    "What is the energy (in joules) and the wavelength (in meters) of the line in the spectrum of hydrogen that represents the movement of an electron from Bohr orbit with $n = 4$ to the orbit with $n = 6$? In what part of the electromagnetic spectrum do we find this radiation? "
   ]
  },
  {
   "cell_type": "code",
   "execution_count": null,
   "id": "3b4bde09-6dbd-4e7e-8500-f0d722ca1d8a",
   "metadata": {},
   "outputs": [],
   "source": []
  },
  {
   "cell_type": "markdown",
   "id": "9704634b-199f-4dfb-acea-7eb890722372",
   "metadata": {},
   "source": [
    "### SE3: Vapor Pressure of an Ideal Solution ([2e Example 11.6](https://openstax.org/books/chemistry-2e/pages/11-4-colligative-properties))\n",
    "\n",
    "Compute the vapor pressure of an ideal solution containing 92.1 g of glycerin, C$_3$H$_5$(OH)$_3$, and 184.4 g of ethanol, C$_2$H$_5$OH, at 40°C. The vapor pressure of pure ethanol is 0.178 atm at 40°C. Glycerin is essentially nonvolatile at this temperature. "
   ]
  },
  {
   "cell_type": "code",
   "execution_count": null,
   "id": "0ba17f88-3dec-435f-a1b4-fdf47285d673",
   "metadata": {},
   "outputs": [],
   "source": []
  },
  {
   "cell_type": "markdown",
   "id": "d8135b53-3312-4411-acba-ac71eaca286f",
   "metadata": {},
   "source": [
    "### SE4: Integrated Rate Law of a 2nd Order Reaction ([2e Example 12.8](https://openstax.org/books/chemistry-2e/pages/12-4-integrated-rate-laws))\n",
    "\n",
    "The reaction of butadiene gas (C$_4$H$_6$) to yield C$_8$H$_{12}$ gas is described by the equation:\n",
    "$$2\\ {\\rm C_4H_6\\ (g)} \\longrightarrow {\\rm C_8H_{12}\\ (g)}$$\n",
    "\n",
    "This “dimerization” reaction is second order with a rate constant equal to $5.76\\times 10^{−2}\\ {\\rm L\\ mol^{-1} min^{−1}}$ under certain conditions. If the initial concentration of butadiene is 0.200 M, what is the concentration after 10.0 min?"
   ]
  },
  {
   "cell_type": "code",
   "execution_count": null,
   "id": "eeac921d-2c30-4a63-992a-480bc46cf466",
   "metadata": {},
   "outputs": [],
   "source": []
  },
  {
   "cell_type": "markdown",
   "id": "8556daea-005d-4d21-9f5a-25c0e2d4c439",
   "metadata": {},
   "source": [
    "### SE5: Equilibrium Concentrations from Initial Concentrations (Learning Check after [2e Example 13.9](https://openstax.org/books/chemistry-2e/pages/13-4-equilibrium-calculations))\n",
    "Acetic acid (CH$_3$CO$_2$H) reacts with ethanol (C$_2$H$_5$OH) to form water and ethyl acetate (CH$_3$CO$_2$C$_2$H$_5$) in a solution where dioxane (C$_4$H$_8$O$_2$; d) is the solvent:\n",
    "$${\\rm CH_3CO_2H\\ (d) + C_2H_5OH\\ (d)} \\rightleftharpoons {\\rm CH_3CO_2C_2H_5\\ (d) + H_2O\\ (d)}$$\n",
    "\n",
    "The equilibrium constant for this reaction in dioxane is $K_c = 4.0$. What are the equilibrium concentrations for a mixture that is initially 0.15 M in H$_3$CO$_2$H, 0.15 M in C$_2$H$_5$OH, 0.40 M in CH$_3$CO$_2$C$_2$H$_5$, and 0.40 M in H$_2$O?"
   ]
  },
  {
   "cell_type": "code",
   "execution_count": null,
   "id": "9d0f01bb-0a13-46aa-9051-1e48b46089da",
   "metadata": {},
   "outputs": [],
   "source": []
  }
 ],
 "metadata": {
  "kernelspec": {
   "display_name": "Python 3 (ipykernel)",
   "language": "python",
   "name": "python3"
  },
  "language_info": {
   "codemirror_mode": {
    "name": "ipython",
    "version": 3
   },
   "file_extension": ".py",
   "mimetype": "text/x-python",
   "name": "python",
   "nbconvert_exporter": "python",
   "pygments_lexer": "ipython3",
   "version": "3.11.9"
  }
 },
 "nbformat": 4,
 "nbformat_minor": 5
}
