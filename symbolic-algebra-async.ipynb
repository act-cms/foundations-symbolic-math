{
 "cells": [
  {
   "cell_type": "markdown",
   "id": "ca21e932-3359-480b-9737-fababccedb33",
   "metadata": {},
   "source": [
    "Introduction to Symbolic Algebra in Python\n",
    "===\n",
    "\n",
    "The purpose of this lesson is to help students develop foundational skills for performing symbolic algebra in Python using the `algebra_with_sympy` library, with some brief applications to problem solving at the general chemistry (first-year) level.\n",
    "\n",
    "## Lesson Learning Outcomes\n",
    "At the end of this lesson, students will be able to...\n",
    "1. Define mathematical variables and expressions using the `algebra_with_sympy` library\n",
    "2. Manipulate algebraic expressions to solve for a single variable\n",
    "3. Substitute numerical values and units into algebraic expressions\n",
    "4. Apply symbolic algebra techniques in Python to solve general chemistry problems\n",
    "\n",
    "## Cyberinfrastructure Prerequisites\n",
    "Students are expected to have basic skills in Python programming and syntax (variable assignment, logic, & control statements), equivalent to the learning outcomes of the [Introduction to Programming for Molecular Scientists](https://act-cms.molssi.org/portal/lessons/foundational-intro-python/) lesson.\n",
    "\n",
    "## Content Prerequisites\n",
    "Students are expected to have a basic familiarity with the following general chemistry concepts:\n",
    "- Gas Laws\n",
    "- Thermochemistry\n",
    "- Chemical Kinetics\n",
    "- Chemical Equilibrium\n",
    "\n",
    "## Resources\n",
    "- [MolSSI Workshop: Python Scripting for Computational Molecular Sciences](https://education.molssi.org/python_scripting_cms/)\n",
    "- [MolSSI CMS Python Workshop: Introduction](https://education.molssi.org/python_scripting_cms/01-introduction/index.html)\n",
    "- [Algebra with SymPy Documentation](https://gutow.github.io/Algebra_with_Sympy/algebra_with_sympy.html)\n",
    "- [Demonstrations of `algebra_with_sympy` functionality with the `Equation` class](https://gutow.github.io/Algebra_with_Sympy/Demonstration%20of%20equation%20class.html)\n",
    "\n",
    "## References\n",
    "Portions of this lesson were adapted from: \n",
    "1. [Algebra with SymPy Documentation](https://gutow.github.io/Algebra_with_Sympy/algebra_with_sympy.html)"
   ]
  },
  {
   "cell_type": "markdown",
   "id": "a54c5a25-8853-46aa-af3d-5a7ceab4a4a7",
   "metadata": {},
   "source": [
    "## Student Instructions\n",
    "\n",
    "The first line of each Code cell below is commented with directions for the cell. Some examples include\n",
    "- `# EXECUTE: Explanatory text...`: Execute the cell by selecting it and typing the Shift and Enter keys.\n",
    "- `# YOUR TURN: Directions...`: Fill in the missing code in the cell according to the `Directions...` text.\n",
    "\n",
    "Perform the indicated actions on each cell to learn how to use `algebra_with_sympy`!\n",
    "\n",
    "### Package Imports\n",
    "\n",
    "***BEFORE STARTING THE LESSON***, execute the cell below to ensure all necessary Python libraries are loaded."
   ]
  },
  {
   "cell_type": "code",
   "execution_count": null,
   "id": "4f86406a",
   "metadata": {},
   "outputs": [],
   "source": [
    "# EXECUTE: Import some packages that we will use later\n",
    "from algebra_with_sympy import * # Automatically imports sympy\n",
    "algwsym_config.output.solve_to_list = True # Makes automatic solution outputs a list for usability\n",
    "from math import log10\n",
    "#from sympy.codegen.cfunctions import log10 # Makes common logarithm available as log10()\n",
    "print(\"This notebook is running Algebra_with_Sympy version \" + str(algwsym_version)+\".\")"
   ]
  },
  {
   "cell_type": "markdown",
   "id": "8b0ca2f8-e3e3-4788-b4c2-ef33bcd0205b",
   "metadata": {},
   "source": [
    "## Defining Mathematical Variables & Equations\n",
    "\n",
    "For example, let's say we wanted to solve a problem using the ideal gas law, $PV=nRT$. Just like we have to define Python variables before using them to perform operations, we have to first declare the symbols that we're using for _mathematical variables_ before using them to build our `algebra_with_sympy` equations. \n",
    "\n",
    "> **Note**: Unfortunately, the word \"variable\" is used in both coding and mathematical contexts. To avoid confusion, I will specifically refer to \"math variables\" and \"Python variables\" to distinguish the two contexts.\n",
    "\n",
    "To declare our math variables, use the `algebra_with_sympy` function `var()`:\n",
    "```python\n",
    "# Pass a string containing a space-separated list of symbols to the var() function\n",
    "var('a b c d')\n",
    "```\n",
    "> **Note**: Using the `var()` function to declare math variables _is not a Python assignment statement_, and shouldn't have an equals sign!\n",
    "\n",
    "In the cell below, declare all of the math variables -- including any physical variables and constants -- that appear in the Ideal Gas Law."
   ]
  },
  {
   "cell_type": "code",
   "execution_count": null,
   "id": "504b31cc-1ebd-48db-8765-f733961ed3c4",
   "metadata": {},
   "outputs": [],
   "source": [
    "# YOUR TURN: Declare ideal gas law variables using `var()`\n"
   ]
  },
  {
   "cell_type": "markdown",
   "id": "298b4b41-6940-4d0b-8d78-9524d7850c99",
   "metadata": {},
   "source": [
    "Now that our math variables and constants have been declared, we can use them to define an algebraic expression. Each expression gets defined as an `Equation` object in `algebra_with_sympy`, with the syntax\n",
    "```python\n",
    "var('a b c')\n",
    "eqn_name =@ a = b / c\n",
    "```\n",
    "This reads just like a normal Python assignment statement, but uses the `=@` symbol to assign the $a = \\frac{b}{c}$ `Equation` object to the Python variable named `eqn_name` because, in general, `Equation` objects can contain an equals sign (which, recall, is the symbol used to assign a value to a Python variable).\n",
    "\n",
    "> **NOTE**: When two variables are multiplied, you *must explicitly write out the multiplication* using the `*` symbol. Otherwise, `algebra_with_sympy` will think you're trying to use an undefined math variable!\n",
    "\n",
    "In the cell below, create a Python variable called `ideal_gas` and assign to it an `Equation` object which defines the ideal gas law using\n",
    "the math variables you've already declared."
   ]
  },
  {
   "cell_type": "code",
   "execution_count": null,
   "id": "e998b56f-53f5-402b-9f98-55cab3f2d1c0",
   "metadata": {},
   "outputs": [],
   "source": [
    "# YOUR TURN: Assign the ideal gas law Equation object to a Python variable called `ideal_gas`\n",
    "\n",
    "# Print it out with the `print()` function\n"
   ]
  },
  {
   "cell_type": "markdown",
   "id": "093c4fcb-2397-4a1e-a053-0a7b8fcd8acc",
   "metadata": {},
   "source": [
    "Looking at the output, you might notice two things that make you nervous, but never fear.\n",
    "1. The order of the multiplication might be different than the way you defined it\n",
    "    - If your multipilcation order is different than you defined it, don't worry --- multiplication is _associative_, meaning that the order of multiplication does not effect the final value. In other words, $5\\times 3 = 3\\times 5 = 15$.\n",
    "2. The `print()` function has a monospace output which isn't all that pretty to look at.\n",
    "    - Since we're using a Jupyter notebook, however, we can simply type the name of the variable on the last line of the cell and Jupyter will render it using math formatting that is much easier to look at, especially for more complicated expressions. \n",
    "\n",
    "In the cell below, have Jupyter pretty format our ideal gas law equation."
   ]
  },
  {
   "cell_type": "code",
   "execution_count": null,
   "id": "e8168271-cb73-4378-a1c4-6af7bc248616",
   "metadata": {},
   "outputs": [],
   "source": [
    "# YOUR TURN: Type the Python variable name for the ideal gas law Equation to pretty print\n"
   ]
  },
  {
   "cell_type": "markdown",
   "id": "ef2e3844-ee30-4c60-a5b1-7121be53b9ee",
   "metadata": {},
   "source": [
    "## \"Manually\" Rearranging Equations to Solve for a Variable\n",
    "\n",
    "Now that we have defined our ideal gas law as an `Equation` object rand assigned it to a Python variable `ideal_gas`, what if we want to rearrange the equation to solve for a particular math variable? For example, to solve the expression $c = \\lambda\\nu$ for $\\nu$ would require us to divide both sides of the equation by $\\lambda$:\n",
    "$$c = \\lambda\\nu \\Rightarrow \\frac{c}{\\lambda} = \\frac{\\lambda\\nu}{\\nu} \\Rightarrow \\nu = \\frac{c}{\\lambda}$$\n",
    "To do this symbolically in Python, we will first need to define an Equation object for the relationship $c=\\lambda\\nu$ using:\n",
    "```python\n",
    "var('c lamda nu')\n",
    "eq1 =@ c = lamda*nu\n",
    "```\n",
    "> **Note**: When written out, the Greek letter $\\lambda$ is spelled \"lambda\" (with a \"b\"), however `lambda` is a reserved word in Python with a specific syntactic meaning. Therefore to use $\\lambda$ in an `algebra_with_sympy` expression, define the math variable as `lamda` (_without_ the \"b\").\n",
    "\n",
    "Now that we have defined our equation $c = \\lambda\\nu$ and assigned it to the Python variable `eq1`, we can perform algebraic manipulations on the equation using Python:\n",
    "\n",
    "Input:\n",
    "```python\n",
    "eq1 / lamda\n",
    "```\n",
    "\n",
    "Output:\n",
    "* $\\frac{c}{\\lambda} = \\nu$\n",
    "\n",
    "In the cell below, rearrange your ideal gas law for the pressure $P$ and assign your new `Equation` to the Python variable `ideal_P`, before outputting it to verify you've done so successfully.\n",
    "\n",
    "> **NOTE**: If the `Equation` you're assigning to a Python variable doesn't contain an equals sign, then you should use `=` to assign the `Equation` to a Python variable rather than the special `=@` symbol."
   ]
  },
  {
   "cell_type": "code",
   "execution_count": null,
   "id": "4630944e-d645-46a9-9ff2-e11ba108d0ad",
   "metadata": {},
   "outputs": [],
   "source": [
    "# YOUR TURN: Solve ideal gas law for P, assign to new Python variable `ideal_P`\n"
   ]
  },
  {
   "cell_type": "markdown",
   "id": "3dd13689-411d-4042-acfb-436780bdb779",
   "metadata": {},
   "source": [
    "What if we actually needed to solve for the number of moles, $n$, instead of the pressure $P$? We can rearrange this new `Equation` object for $n$ by using order of operations and define a new `Equation` in a single line:\n",
    "```python\n",
    "ideal_P * V / R / T\n",
    "```\n",
    "would produce the output\n",
    "$$\\frac{PV}{RT} = n.$$\n",
    "In the cell below, rearrange `ideal_P` to solve for the temperature, $T$, and assign the new `Equation` to a Python variable `ideal_T`."
   ]
  },
  {
   "cell_type": "code",
   "execution_count": null,
   "id": "e0f1f672-d370-4a34-af66-b149e4fb0418",
   "metadata": {},
   "outputs": [],
   "source": [
    "# YOUR TURN: Solve `ideal_P` for temperature, assign to new Python variable `ideal_T`\n"
   ]
  },
  {
   "cell_type": "markdown",
   "id": "c0bef4f7-2ab1-4204-8f35-937cdec4f100",
   "metadata": {},
   "source": [
    "While the expression above is not incorrect, it is a little weird that our newly isolated variable $T$ is on the right hand side (RHS) of our `Equation`, instead of the left hand side (LHS) where we're used to seeing it. If this bothers you, you can always use the `.swap()` method to flip the RHS and LHS of an `Equation`.\n",
    "\n",
    "Input:\n",
    "```python\n",
    "ideal_T.swap()\n",
    "```\n",
    "\n",
    "Output:\n",
    "$$ T = \\frac{PV}{Rn}$$"
   ]
  },
  {
   "cell_type": "markdown",
   "id": "ff1a8995-7a6a-4b54-b378-a932ecc36f6b",
   "metadata": {},
   "source": [
    "## Evaluating an `Equation` using the `.subs()` Method\n",
    "\n",
    "Once you've rearranged your `Equation` to solve for the desired math variable, you can evaluate your `Equation` by substituting in values for the other math variables and constants. To do this, we will construct a _Python dictionary_ associating each math variable with a value to substitute:\n",
    "\n",
    ">#### Brief aside: Python Dictionaries\n",
    ">Python `dict`s are objects which associate values with keys that are used to \"look them up,\" and are defined by placing comma-separated `key: value` pairs inside curly braces like the following:\n",
    ">```python\n",
    ">new_dict = {'key_1': 'value 1', 'key_2': 'value 2', 'key_3': 3, 'key_4': ideal_T}\n",
    ">```\n",
    ">In general, a dictionary's keys should be defined as strings (type `str`), and behave like Python variables that only live inside the dictionary. The dictionary's values, on the other hand, can be any mixture of types (i.e., not all entries in the dictionary must be of the same type). To access the value associated with a particular key in the dictionary, you would use square brackets `[]`:\n",
    ">```python\n",
    ">print(new_dict[key_1])\n",
    ">\n",
    ">Output: 'value_1'\n",
    ">```\n",
    ">This is similar to accessing a member of a `list`, except instead of passing the member's index, you pass the name of the desired value's key inside the brackets.\n",
    "\n",
    "For a random algebra problem, substituting values alone into an expression may be sufficient. In chemistry, however, bare values are meaningless --- we also need to define and perform algebra with units! To use units in `algebra_with_sympy`, units can be declared using the `units()` function, which behaves the same way as the `var()` function earlier. For example, to declare units of meters, seconds, and kilograms, you would execute\n",
    "```python\n",
    "units('m s kg')\n",
    "```\n",
    "Once units have been declared, _both_ values and units can be substituted into our `Equation` object by passing a dictionary to the `Equation.subs()` method. \n",
    "\n",
    "For example, let's evaluate the pressure of 1.00 mol of an ideal gas at 273 K in a 24.0 L vessel. After declaring our units, we can build a dictionary whose keys are the variables in `ideal_P` to which we are substituting and whose dictionary values are the numerical value & units being substituted. This would look like\n",
    "```python\n",
    "units('L atm mol K')\n",
    "d = {R: 0.08206*L*atm/mol/K, T: 273*K, n: 1.00*mol, V: 24.0*L}\n",
    "ideal_P.subs(d)\n",
    "```\n",
    "which should yield the output\n",
    "$$P = 0.9334325atm$$\n",
    "\n",
    "In the cell below, determine the molar volume of an ideal gas at STP, i.e., the volume occupied by exactly 1 mol an ideal gas at 273.15 K and 1 bar of pressure.\n",
    ">**Hint**: Units declared with the `units()` function do not come with conversion factors! You will need to use the fact that 1 bar = 100 kPa and that 1 atm = 101.325 kPa."
   ]
  },
  {
   "cell_type": "markdown",
   "id": "8a6a4ab8-cee9-42c2-80e8-04a86ec966a9",
   "metadata": {},
   "source": [
    "### Student Exercise\n",
    "\n",
    "In the cell below, determine the molar volume of an ideal gas at STP, i.e., the volume occupied by exactly 1 mol an ideal gas at 273.15 K and 1 bar of pressure.\n",
    ">**Hint**: Units declared with the `units()` function do not come with conversion factors! You will need to use the fact that 1 bar = 100 kPa and that 1 atm = 101.325 kPa."
   ]
  },
  {
   "cell_type": "code",
   "execution_count": null,
   "id": "a6d7071a-4b9b-477b-ba47-976ee6fc51a0",
   "metadata": {},
   "outputs": [],
   "source": [
    "# YOUR TURN: What is the molar volume of an ideal gas at STP?\n",
    "\n",
    "## Hint: Convert your ideal gas constant to be in units of L*bar/mol/K\n",
    "\n",
    "## Rearrange ideal gas law for V & define `ideal_V`\n",
    "\n",
    "## Substitute values into `ideal_V` to evaluate molar volume\n"
   ]
  },
  {
   "cell_type": "markdown",
   "id": "c9d66184",
   "metadata": {},
   "source": [
    "## Automatically Solving Equations with the `.solve()` Method\n",
    "\n",
    "Let's determine the pH of a 0.250 M solution of formic acid, whose acid dissociation constant is $K_a = 1.8\\times 10^{-4}$. \n",
    "\n",
    "Taking the formal concentrations of hydronium and formate to be 0 M, the ICE table for this system implies the following quadratic relationship is true at equilibrium:\n",
    "$$x^2 + K_a x - K_aF = 0,$$\n",
    "where $F = 0.250\\ {\\rm M}$ is the formal concentration of our formic acid solution and $x$ is the change in formal concentrations necessary for the system to reach equilibrium. All quadratic equations of the form\n",
    "$$ax^2 + bx + c = 0$$\n",
    "with constant coefficients $a,\\ b,\\ c$ have exactly two solutions, $x_-$ and $x_+$, given by the quadratic formula:\n",
    "$$x_{\\pm} = \\frac{-b \\pm \\sqrt{b^2 - 4ac}}{2a}$$\n",
    "While we can use the quadratic formula above to solve this equilibrium problem (substituting in $a = 1$, $b = K_a$, and $c = -K_aF$, the approach taken in almost every general chemistry course), other chemical equilibria have ICE tables which produce cubic or quartic expressions that have no closed-form solutions. How then should we solve those problems? \n",
    "\n",
    "Fortunately for us, `algebra_with_sympy` comes with a `solve()` function that can do solve arbitrary expressions for a specified variable automatically! To illustrate how to do so, let's apply this function to solve our formic acid equilibrium.\n",
    "\n",
    "First, in the cell below, define the math variables and quadratic equation of interest:\n",
    "```python\n",
    "var('x K_a F')\n",
    "quad =@ x**2 + K_a*x - K_a*F = 0\n",
    "```"
   ]
  },
  {
   "cell_type": "code",
   "execution_count": null,
   "id": "52fb3091-d9f3-4944-8411-81eaa39b971d",
   "metadata": {},
   "outputs": [],
   "source": [
    "# YOUR TURN: Define math variables & the quadratic equation of interest\n"
   ]
  },
  {
   "cell_type": "markdown",
   "id": "452cb842-af88-4047-b8ac-c581eb4c7e03",
   "metadata": {},
   "source": [
    "Now, to solve for $x$, all that must be done is to call\n",
    "```python\n",
    "solve(expression, variable)\n",
    "```\n",
    "where `expression` is the Python variable referring to the equation of interest and `variable` is the name of the math variable we wish to solve for."
   ]
  },
  {
   "cell_type": "code",
   "execution_count": null,
   "id": "0bc04677-0fc2-4e16-acae-d79941f3ebbf",
   "metadata": {},
   "outputs": [],
   "source": [
    "# YOUR TURN: Call solve() on our quadratic equation!\n"
   ]
  },
  {
   "cell_type": "markdown",
   "id": "bc562a18-e2af-4956-b61a-db69fc8a8b02",
   "metadata": {},
   "source": [
    "Currently, the output of `solve()` looks a little obtuse. The `solve()` method has returned to us a list containing the two symbolic solutions to our quadratic equation, $\\left(x_-,\\ x_+\\right).$ Because they are returned in a list, we can access each one using list slicing! For example,\n",
    "\n",
    "Input:\n",
    "```python\n",
    "solve(quad, x)[0]\n",
    "```\n",
    "Output:\n",
    "\n",
    "$x = -\\frac{K_a}{2} - \\frac{\\sqrt{K_a(4F + K_a)}}{2}$\n",
    "\n",
    "This is exactly what we should expect, given the form of the quadratic equation. Since we are more interested in _evaluating_ the solution of this quadratic equation to solve our problem, however, we can substitute in values to `quad` _before_ solving for $x$ in order to determine the numerical values for the solutions $\\left(x_-,\\ x_+\\right).$ \n",
    "\n",
    "In the cell below:\n",
    "- Re-define your math variables ($x$, $K_a$, $F$) and quadratic equation `quad` using `algebra_with_sympy`\n",
    "- Define two Python variables, `Ka_val` and `F_val`, and assign to them the numerical values for these variables from our example problem.\n",
    "- Instead of passing _only_ `quad` to the `solve()` function, pass a substituted expression containing the values of $K_a$ and $F$ by calling something like\n",
    "    ```python\n",
    "    solutions = solve(quad.subs({key1: value1, ...))\n",
    "    ```\n",
    "- Pretty print the $x_+$ solution, which will be the element `1` of the `solutions` list"
   ]
  },
  {
   "cell_type": "code",
   "execution_count": null,
   "id": "a7710b0d",
   "metadata": {},
   "outputs": [],
   "source": [
    "# YOUR TURN: Substitute values for K_a & F, then solve our quadratic equation for the numerical value of x\n",
    "# Define math variables & quadratic expression to solve\n",
    "\n",
    "# Define Python variables for the numerical values of Ka & F\n",
    "\n",
    "# Solve for numerical solutions xminus, xplus\n",
    "\n",
    "# Pretty output of the (+) solution\n"
   ]
  },
  {
   "cell_type": "markdown",
   "id": "e333ce91-5cc3-49a6-ba50-f7106e17a0eb",
   "metadata": {},
   "source": [
    "You should have gotten a numerical value of approximately $x \\approx 0.00066$ (to 2 significant figures) if you solved the problem correctly, but what about the units on this value? Chemically, we know that $x$ is the change in solute concentration, so should therefore be in units of mol/L. Even though it is possible to do algebra with units using `algebra_with_sympy`, there are some situations where this functionality breaks down --- most notably, when using `solve()` to solve for a variable whose value has units attached.\n",
    "> **NOTE:** For everyone's sanity, _do not attach units to values which are substituted into an equation that will be solved with_ `solve()`."
   ]
  },
  {
   "cell_type": "markdown",
   "id": "8f6aa906-b899-41ec-b801-5c64a80399cc",
   "metadata": {},
   "source": [
    "## Extracting a Numerical Value from an `Equation` Object\n",
    "Now that we have determined the value of $x$ (remembering it is in units of mol/L), how do we use this information to determine the pH at equilibrium and solve the original problem? In a quirk of how the `algebra_with_sympy` library works, our solution is actually itself an `Equation` object, meaning we can't just take the statement\n",
    ">$x = 0.006618807643687513$\n",
    "\n",
    "to mean that the math variable $x$ is now defined to have 0.0066... in numerical value. To use this numerical value, we need to create a new _Python variable_ (called, e.g., `change`) that stores the numerical value on the right-hand-side of the solution expression, which we can do using\n",
    "```python\n",
    "change = float(solutions[1].rhs)\n",
    "```\n",
    "In the cell below, re-type this code to store the numerical value of our solution as a Python variable `change`."
   ]
  },
  {
   "cell_type": "code",
   "execution_count": null,
   "id": "af277c07-c432-4a9c-90fe-fca3cdf3f9f7",
   "metadata": {},
   "outputs": [],
   "source": [
    "# YOUR TURN: Store the numerical value for the positive root of our quadratic equation in the Python variable `change`\n"
   ]
  },
  {
   "cell_type": "markdown",
   "id": "74f0b295-b3ff-4fbb-92e7-290c94caa77b",
   "metadata": {},
   "source": [
    "The line of code we used above can be interpreted as doing the following three things:\n",
    "1. `xplus.rhs` : Returns the right-hand-side (RHS) of the expression `xplus`, i.e., whatever is on the RHS of the equals sign\n",
    "2. `float(xplus.rhs)` : Explicitly casts the numerical value on the RHS to be a floating point (decimal) number in Python\n",
    "3. `change = float(xplus.rhs)` : Assigns the floating point number on the RHS of the expression to the Python variable `change`\n",
    "\n",
    "Now that we have stored the numerical value for $x$ as a floating-point Python variable, we can use it to perform _numerical_ mathematical operations. For example, to finally solve for the pH of our formic acid solution at equilibrium, we would need to perform the mathematical operation\n",
    "$${\\rm pH} = -\\log_{10}{x}$$\n",
    "where I have specified the common logarithm (i.e., base 10) in the formula for pH as $\\log_{10}$ rather than the natural logarithm (base $e$). Unlike in a normal mathematical context, where \"$\\log$\" is understood to represent the common logarithm and \"$\\ln$\" is understood to mean the natural logarithm, Python and many other programming languages actually use `log` to mean the natural logarithm and `log10` to mean the common logarithm. \n",
    "| Logarithm Name    | Base | Typical Mathematical Notation | Python Function |\n",
    "|-------------------|------|-------------------------------|-----------------|\n",
    "| Common Logarithm  | 10   | $\\log{x}$                     | `log10(x)`      |\n",
    "| Natural Logarithm | $e$  | $\\ln{x}$                      | `log(x)`        |\n",
    "\n",
    "In the cell below, refer to the table above to translate between typcial math and code for the common logarithm to compute the pH of our formic acid solution at equilibrium:"
   ]
  },
  {
   "cell_type": "code",
   "execution_count": null,
   "id": "e063875a-1248-42ed-934f-5dbc764447ba",
   "metadata": {},
   "outputs": [],
   "source": [
    "# YOUR TURN: Compute pH from the equilibrium hydronium concentration using proper logarithm in Python\n"
   ]
  },
  {
   "cell_type": "markdown",
   "id": "72dc407c-4860-411a-8ece-c493cc2c2da9",
   "metadata": {},
   "source": [
    "## Student Exercises\n",
    "Now that we have explored the basics of using Python and the `algebra_with_sympy` library to solve chemical problems, please apply these new skills to solve the problems below. (Taken from [OpenStax Chemistry 2e](https://openstax.org/details/books/chemistry-2e))"
   ]
  },
  {
   "cell_type": "markdown",
   "id": "bb4c3595-7697-411f-b136-622184965044",
   "metadata": {},
   "source": [
    "### SE1: Heat Transfer & Calorimetry ([2e Example 5.3](https://openstax.org/books/chemistry-2e/pages/5-2-calorimetry))\n",
    "\n",
    "A 360.0-g piece of rebar (a steel rod used for reinforcing concrete) is dropped into 425 mL of water (density 1.00 g/mL) at 24.0°C. The final temperature of the water was measured as 42.7°C. Calculate the initial temperature of the piece of rebar. Assume the specific heat of steel is approximately the same as that for iron (Table 5.1), and that all heat transfer occurs between the rebar and the water (there is no heat exchange with the surroundings)."
   ]
  },
  {
   "cell_type": "code",
   "execution_count": null,
   "id": "267672d3-5be2-40ef-996d-4d9d46638056",
   "metadata": {},
   "outputs": [],
   "source": []
  },
  {
   "cell_type": "markdown",
   "id": "949318c0-c628-445b-907c-874f11e622ac",
   "metadata": {},
   "source": [
    "### SE2: Energy & Wavelengths of Bohr-Orbit Transitions ([2e Example 6.5](https://openstax.org/books/chemistry-2e/pages/6-2-the-bohr-model))\n",
    "\n",
    "What is the energy (in joules) and the wavelength (in meters) of the line in the spectrum of hydrogen that represents the movement of an electron from Bohr orbit with $n = 4$ to the orbit with $n = 6$? In what part of the electromagnetic spectrum do we find this radiation? "
   ]
  },
  {
   "cell_type": "code",
   "execution_count": null,
   "id": "3b4bde09-6dbd-4e7e-8500-f0d722ca1d8a",
   "metadata": {},
   "outputs": [],
   "source": []
  },
  {
   "cell_type": "markdown",
   "id": "9704634b-199f-4dfb-acea-7eb890722372",
   "metadata": {},
   "source": [
    "### SE3: Vapor Pressure of an Ideal Solution ([2e Example 11.6](https://openstax.org/books/chemistry-2e/pages/11-4-colligative-properties))\n",
    "\n",
    "Compute the vapor pressure of an ideal solution containing 92.1 g of glycerin, C$_3$H$_5$(OH)$_3$, and 184.4 g of ethanol, C$_2$H$_5$OH, at 40°C. The vapor pressure of pure ethanol is 0.178 atm at 40°C. Glycerin is essentially nonvolatile at this temperature. "
   ]
  },
  {
   "cell_type": "code",
   "execution_count": null,
   "id": "0ba17f88-3dec-435f-a1b4-fdf47285d673",
   "metadata": {},
   "outputs": [],
   "source": []
  },
  {
   "cell_type": "markdown",
   "id": "d8135b53-3312-4411-acba-ac71eaca286f",
   "metadata": {},
   "source": [
    "### SE4: Integrated Rate Law of a 2nd Order Reaction ([2e Example 12.8](https://openstax.org/books/chemistry-2e/pages/12-4-integrated-rate-laws))\n",
    "\n",
    "The reaction of butadiene gas (C$_4$H$_6$) to yield C$_8$H$_{12}$ gas is described by the equation:\n",
    "$$2\\ {\\rm C_4H_6\\ (g)} \\longrightarrow {\\rm C_8H_{12}\\ (g)}$$\n",
    "\n",
    "This “dimerization” reaction is second order with a rate constant equal to $5.76\\times 10^{−2}\\ {\\rm L\\ mol^{-1} min^{−1}}$ under certain conditions. If the initial concentration of butadiene is 0.200 M, what is the concentration after 10.0 min?"
   ]
  },
  {
   "cell_type": "code",
   "execution_count": null,
   "id": "eeac921d-2c30-4a63-992a-480bc46cf466",
   "metadata": {},
   "outputs": [],
   "source": []
  },
  {
   "cell_type": "markdown",
   "id": "8556daea-005d-4d21-9f5a-25c0e2d4c439",
   "metadata": {},
   "source": [
    "### SE5: Equilibrium Concentrations from Initial Concentrations (Learning Check after [2e Example 13.9](https://openstax.org/books/chemistry-2e/pages/13-4-equilibrium-calculations))\n",
    "Acetic acid (CH$_3$CO$_2$H) reacts with ethanol (C$_2$H$_5$OH) to form water and ethyl acetate (CH$_3$CO$_2$C$_2$H$_5$) in a solution where dioxane (C$_4$H$_8$O$_2$; d) is the solvent:\n",
    "$${\\rm CH_3CO_2H\\ (d) + C_2H_5OH\\ (d)} \\rightleftharpoons {\\rm CH_3CO_2C_2H_5\\ (d) + H_2O\\ (d)}$$\n",
    "\n",
    "The equilibrium constant for this reaction in dioxane is $K_c = 4.0$. What are the equilibrium concentrations for a mixture that is initially 0.15 M in H$_3$CO$_2$H, 0.15 M in C$_2$H$_5$OH, 0.40 M in CH$_3$CO$_2$C$_2$H$_5$, and 0.40 M in H$_2$O?"
   ]
  },
  {
   "cell_type": "code",
   "execution_count": null,
   "id": "9d0f01bb-0a13-46aa-9051-1e48b46089da",
   "metadata": {},
   "outputs": [],
   "source": []
  }
 ],
 "metadata": {
  "kernelspec": {
   "display_name": "Python 3 (ipykernel)",
   "language": "python",
   "name": "python3"
  },
  "language_info": {
   "codemirror_mode": {
    "name": "ipython",
    "version": 3
   },
   "file_extension": ".py",
   "mimetype": "text/x-python",
   "name": "python",
   "nbconvert_exporter": "python",
   "pygments_lexer": "ipython3",
   "version": "3.11.9"
  }
 },
 "nbformat": 4,
 "nbformat_minor": 5
}
